{
 "cells": [
  {
   "cell_type": "code",
   "execution_count": 1,
   "id": "01670442",
   "metadata": {},
   "outputs": [],
   "source": [
    "# project: p6\n",
    "# submitter: xyang467\n",
    "# partner: none\n",
    "# hours: 10"
   ]
  },
  {
   "cell_type": "code",
   "execution_count": 2,
   "id": "746ca910",
   "metadata": {},
   "outputs": [],
   "source": [
    "import geopandas as gpd\n",
    "import matplotlib.pyplot as plt\n",
    "from matplotlib import cm\n",
    "import pandas as pd\n",
    "import sqlite3\n",
    "from sklearn.model_selection import train_test_split, cross_val_score\n",
    "from sklearn.linear_model import LinearRegression\n",
    "import numpy as np\n",
    "from sklearn.pipeline import Pipeline\n",
    "import rasterio\n",
    "from rasterio.mask import mask\n",
    "from shapely.geometry import box\n",
    "from matplotlib.colors import ListedColormap\n",
    "from sklearn.preprocessing import PolynomialFeatures"
   ]
  },
  {
   "cell_type": "code",
   "execution_count": 3,
   "id": "a9c70af2",
   "metadata": {},
   "outputs": [
    {
     "data": {
      "text/plain": [
       "72"
      ]
     },
     "execution_count": 3,
     "metadata": {},
     "output_type": "execute_result"
    }
   ],
   "source": [
    "#Q1\n",
    "df = gpd.read_file(\"counties.geojson\")\n",
    "len(df.NAME.values)"
   ]
  },
  {
   "cell_type": "code",
   "execution_count": 4,
   "id": "79f2a734",
   "metadata": {},
   "outputs": [
    {
     "data": {
      "text/plain": [
       "<AxesSubplot:>"
      ]
     },
     "execution_count": 4,
     "metadata": {},
     "output_type": "execute_result"
    },
    {
     "data": {
      "image/png": "[encoded data removed]",
      "text/plain": [
       "<Figure size 432x288 with 2 Axes>"
      ]
     },
     "metadata": {
      "needs_background": "light"
     },
     "output_type": "display_data"
    }
   ],
   "source": [
    "#Q2\n",
    "fig, ax = plt.subplots()\n",
    "df.plot(ax=ax,cmap=cm.viridis,column=\"POP100\",legend=True)"
   ]
  },
  {
   "cell_type": "code",
   "execution_count": 5,
   "id": "c8959303",
   "metadata": {},
   "outputs": [
    {
     "data": {
      "text/plain": [
       "['Kewaunee County',\n",
       " 'Calumet County',\n",
       " 'Adams County',\n",
       " 'Eau Claire County',\n",
       " 'Milwaukee County',\n",
       " 'Ashland County',\n",
       " 'Wood County',\n",
       " 'Dodge County',\n",
       " 'Sauk County',\n",
       " 'Clark County',\n",
       " 'Pepin County',\n",
       " 'Taylor County',\n",
       " 'Iron County',\n",
       " 'Outagamie County',\n",
       " 'Florence County',\n",
       " 'Oneida County',\n",
       " 'Pierce County',\n",
       " 'Grant County']"
      ]
     },
     "execution_count": 5,
     "metadata": {},
     "output_type": "execute_result"
    }
   ],
   "source": [
    "#Q3\n",
    "conn = sqlite3.connect(\"counties_tracts.db\")\n",
    "counties = pd.read_sql(\"\"\"SELECT * FROM counties\"\"\", conn)\n",
    "C_AREALAND = df.join(counties.set_index('NAME'), on='NAME')\n",
    "df[\"AREALAND\"] = C_AREALAND[\"AREALAND\"]\n",
    "train, test = train_test_split(df,random_state=320,test_size=0.25)\n",
    "list(test.NAME)"
   ]
  },
  {
   "cell_type": "code",
   "execution_count": 6,
   "id": "ca8ed0cc",
   "metadata": {},
   "outputs": [
    {
     "data": {
      "text/plain": [
       "0.022002661530554857"
      ]
     },
     "execution_count": 6,
     "metadata": {},
     "output_type": "execute_result"
    }
   ],
   "source": [
    "#Q4\n",
    "model = LinearRegression()\n",
    "model.fit(train[[\"AREALAND\"]], train[\"POP100\"])\n",
    "model.score(test[[\"AREALAND\"]], test[\"POP100\"])"
   ]
  },
  {
   "cell_type": "code",
   "execution_count": 7,
   "id": "85f9bf1e",
   "metadata": {},
   "outputs": [
    {
     "data": {
      "text/plain": [
       "82032.53073541154"
      ]
     },
     "execution_count": 7,
     "metadata": {},
     "output_type": "execute_result"
    }
   ],
   "source": [
    "#Q5\n",
    "predict_df = pd.DataFrame({\"AREALAND\": [500*2.59*1000000]}) \n",
    "predict_df[\"predicted_y\"] = model.predict(predict_df)\n",
    "predict_df.iloc[0,1]"
   ]
  },
  {
   "cell_type": "code",
   "execution_count": 8,
   "id": "fd1836fc",
   "metadata": {},
   "outputs": [
    {
     "data": {
      "text/plain": [
       "['Kewaunee County',\n",
       " 'Calumet County',\n",
       " 'Adams County',\n",
       " 'Eau Claire County',\n",
       " 'Milwaukee County',\n",
       " 'Ashland County',\n",
       " 'Wood County',\n",
       " 'Dodge County',\n",
       " 'Sauk County',\n",
       " 'Clark County',\n",
       " 'Pepin County',\n",
       " 'Taylor County',\n",
       " 'Iron County',\n",
       " 'Outagamie County',\n",
       " 'Florence County',\n",
       " 'Oneida County',\n",
       " 'Pierce County',\n",
       " 'Grant County']"
      ]
     },
     "execution_count": 8,
     "metadata": {},
     "output_type": "execute_result"
    }
   ],
   "source": [
    "#Q6\n",
    "SUM = pd.read_sql(\"\"\"\n",
    "SELECT counties.NAME, SUM(HU100) AS HU100 FROM counties \n",
    "INNER JOIN tracts ON tracts.COUNTY = counties.COUNTY\n",
    "GROUP BY counties.NAME\"\"\", conn)\n",
    "C_HU100 = df.join(SUM.set_index('NAME'), on='NAME')\n",
    "df[\"HU100\"] = C_HU100[\"HU100\"]\n",
    "train, test = train_test_split(df,random_state=320,test_size=0.25)\n",
    "list(test.NAME)"
   ]
  },
  {
   "cell_type": "code",
   "execution_count": 9,
   "id": "ad7e1886",
   "metadata": {},
   "outputs": [
    {
     "data": {
      "text/plain": [
       "{'Walworth County': 51531,\n",
       " 'Marquette County': 9896,\n",
       " 'Racine County': 82164,\n",
       " 'Waupaca County': 25396,\n",
       " 'Lincoln County': 16784,\n",
       " 'Washburn County': 12979,\n",
       " 'Door County': 23966,\n",
       " 'Waukesha County': 160864,\n",
       " 'Sheboygan County': 50766,\n",
       " 'La Crosse County': 48402,\n",
       " 'Langlade County': 12360,\n",
       " 'Marathon County': 57734,\n",
       " 'Jefferson County': 35147,\n",
       " 'Price County': 11120,\n",
       " 'Vilas County': 25116,\n",
       " 'Columbia County': 26137,\n",
       " 'Ozaukee County': 36267,\n",
       " 'Fond du Lac County': 43910,\n",
       " 'Crawford County': 8802,\n",
       " 'Lafayette County': 7230,\n",
       " 'Green County': 15856,\n",
       " 'Marinette County': 30379,\n",
       " 'Vernon County': 13720,\n",
       " 'Douglas County': 22825,\n",
       " 'Rock County': 68422,\n",
       " 'Iowa County': 10719,\n",
       " 'Dane County': 216022,\n",
       " 'Bayfield County': 12999,\n",
       " 'Polk County': 24248,\n",
       " 'Trempealeau County': 12619,\n",
       " 'Brown County': 104371,\n",
       " 'Washington County': 54695,\n",
       " 'Chippewa County': 27185,\n",
       " 'Oconto County': 23537,\n",
       " 'Richland County': 8868,\n",
       " 'Portage County': 30054,\n",
       " 'Sawyer County': 15975,\n",
       " 'Menominee County': 2253,\n",
       " 'Barron County': 23614,\n",
       " 'Shawano County': 20720,\n",
       " 'Winnebago County': 73329,\n",
       " 'Rusk County': 8883,\n",
       " 'Manitowoc County': 37189,\n",
       " 'Dunn County': 17964,\n",
       " 'Monroe County': 19204,\n",
       " 'Waushara County': 14843,\n",
       " 'Forest County': 8970,\n",
       " 'Green Lake County': 10616,\n",
       " 'Juneau County': 14669,\n",
       " 'St. Croix County': 33983,\n",
       " 'Buffalo County': 6664,\n",
       " 'Kenosha County': 69288,\n",
       " 'Jackson County': 9727,\n",
       " 'Burnett County': 15278}"
      ]
     },
     "execution_count": 9,
     "metadata": {},
     "output_type": "execute_result"
    }
   ],
   "source": [
    "#Q7\n",
    "train.set_index(\"NAME\").to_dict()['HU100']"
   ]
  },
  {
   "cell_type": "code",
   "execution_count": 10,
   "id": "9e706502",
   "metadata": {},
   "outputs": [
    {
     "data": {
      "text/plain": [
       "0.9652534544116037"
      ]
     },
     "execution_count": 10,
     "metadata": {},
     "output_type": "execute_result"
    }
   ],
   "source": [
    "#Q8\n",
    "m2 = LinearRegression()\n",
    "scores = cross_val_score(m2, train[[\"HU100\"]], train[\"POP100\"])\n",
    "np.mean(scores)"
   ]
  },
  {
   "cell_type": "code",
   "execution_count": 11,
   "id": "763542c4",
   "metadata": {},
   "outputs": [
    {
     "data": {
      "text/plain": [
       "0.03704265206670459"
      ]
     },
     "execution_count": 11,
     "metadata": {},
     "output_type": "execute_result"
    }
   ],
   "source": [
    "#Q9\n",
    "scores.std()"
   ]
  },
  {
   "cell_type": "code",
   "execution_count": 12,
   "id": "b37e213e",
   "metadata": {},
   "outputs": [
    {
     "data": {
      "text/plain": [
       "'POP100 = 2.39*HU100 + -7910.46'"
      ]
     },
     "execution_count": 12,
     "metadata": {},
     "output_type": "execute_result"
    }
   ],
   "source": [
    "#Q10\n",
    "m2.fit(train[[\"HU100\"]], train[\"POP100\"])\n",
    "f\"POP100 = {round(m2.coef_[0],2)}*HU100 + {round(m2.intercept_, 2)}\""
   ]
  },
  {
   "cell_type": "code",
   "execution_count": 13,
   "id": "f1e7f502",
   "metadata": {},
   "outputs": [
    {
     "data": {
      "text/plain": [
       "Text(216022, 488073, 'Dane')"
      ]
     },
     "execution_count": 13,
     "metadata": {},
     "output_type": "execute_result"
    },
    {
     "data": {
      "image/png": "[encoded data removed]",
      "text/plain": [
       "<Figure size 432x288 with 1 Axes>"
      ]
     },
     "metadata": {
      "needs_background": "light"
     },
     "output_type": "display_data"
    }
   ],
   "source": [
    "#Q11\n",
    "predict_df = pd.DataFrame({\"HU100\": range(1, 450000)})\n",
    "predict_df[\"predicted_y\"] = m2.predict(predict_df)\n",
    "ax = predict_df.plot.line(x=\"HU100\", y=\"predicted_y\",label=\"Predicted\", color=\"red\")\n",
    "df.plot.scatter(x=\"HU100\", y=\"POP100\", ax=ax, label=\"Actual\")\n",
    "ax.text(df.HU100[df.NAME == \"Dane County\"].values[0], df.POP100[df.NAME == \"Dane County\"].values[0],\"Dane\", va=\"center\", ha=\"left\")"
   ]
  },
  {
   "cell_type": "code",
   "execution_count": 14,
   "id": "be8d9327",
   "metadata": {},
   "outputs": [
    {
     "data": {
      "text/plain": [
       "12"
      ]
     },
     "execution_count": 14,
     "metadata": {},
     "output_type": "execute_result"
    }
   ],
   "source": [
    "#Q12\n",
    "A = np.array([\n",
    "    [0,0,5,8,4],\n",
    "    [1,2,4,0,3],\n",
    "    [2,4,0,9,2],\n",
    "    [3,5,2,1,1],\n",
    "    [0,5,0,1,0]\n",
    "])\n",
    "((A>=2)&(A<=5)).astype(int).sum()"
   ]
  },
  {
   "cell_type": "code",
   "execution_count": 15,
   "id": "e2fe693d",
   "metadata": {},
   "outputs": [
    {
     "data": {
      "text/plain": [
       "<matplotlib.image.AxesImage at 0x7fabef2aef70>"
      ]
     },
     "execution_count": 15,
     "metadata": {},
     "output_type": "execute_result"
    },
    {
     "data": {
      "image/png": "[encoded data removed]",
      "text/plain": [
       "<Figure size 864x864 with 1 Axes>"
      ]
     },
     "metadata": {
      "needs_background": "light"
     },
     "output_type": "display_data"
    }
   ],
   "source": [
    "#Q13\n",
    "land = rasterio.open(\"zip://../p6/land.zip!wi.tif\")\n",
    "Milwaukee = df[df[\"NAME\"]== \"Milwaukee County\"]\n",
    "matrix, _ = mask(land, Milwaukee.to_crs(land.crs)[\"geometry\"], crop=True)\n",
    "matrix = matrix[0]\n",
    "c = np.zeros((256,3))\n",
    "c[0] = [0.00000000000, 0.00000000000, 0.00000000000]\n",
    "c[11] = [0.27843137255, 0.41960784314, 0.62745098039]\n",
    "c[12] = [0.81960784314, 0.86666666667, 0.97647058824]\n",
    "c[21] = [0.86666666667, 0.78823529412, 0.78823529412]\n",
    "c[22] = [0.84705882353, 0.57647058824, 0.50980392157]\n",
    "c[23] = [0.92941176471, 0.00000000000, 0.00000000000]\n",
    "c[24] = [0.66666666667, 0.00000000000, 0.00000000000]\n",
    "c[31] = [0.69803921569, 0.67843137255, 0.63921568628]\n",
    "c[41] = [0.40784313726, 0.66666666667, 0.38823529412]\n",
    "c[42] = [0.10980392157, 0.38823529412, 0.18823529412]\n",
    "c[43] = [0.70980392157, 0.78823529412, 0.55686274510]\n",
    "c[51] = [0.64705882353, 0.54901960784, 0.18823529412]\n",
    "c[52] = [0.80000000000, 0.72941176471, 0.48627450980]\n",
    "c[71] = [0.88627450980, 0.88627450980, 0.75686274510]\n",
    "c[72] = [0.78823529412, 0.78823529412, 0.46666666667]\n",
    "c[73] = [0.60000000000, 0.75686274510, 0.27843137255]\n",
    "c[74] = [0.46666666667, 0.67843137255, 0.57647058824]\n",
    "c[81] = [0.85882352941, 0.84705882353, 0.23921568628]\n",
    "c[82] = [0.66666666667, 0.43921568628, 0.15686274510]\n",
    "c[90] = [0.72941176471, 0.84705882353, 0.91764705882]\n",
    "c[95] = [0.43921568628, 0.63921568628, 0.72941176471]\n",
    "custom_cmap = ListedColormap(c)\n",
    "fig, ax = plt.subplots(figsize=(12,12))\n",
    "ax.imshow(matrix, vmin=0, vmax=255,cmap=custom_cmap)"
   ]
  },
  {
   "cell_type": "code",
   "execution_count": 16,
   "id": "a8f0c891",
   "metadata": {},
   "outputs": [
    {
     "data": {
      "text/plain": [
       "0.7963037455950543"
      ]
     },
     "execution_count": 16,
     "metadata": {},
     "output_type": "execute_result"
    }
   ],
   "source": [
    "#Q14\n",
    "land_use = {\"open_water\": 11,\n",
    "            \"ice_snow\": 12,\n",
    "            \"developed_open\": 21,\n",
    "            \"developed_low\": 22,\n",
    "            \"developed_med\": 23,\n",
    "            \"developed_high\": 24,\n",
    "            \"barren\": 31,\n",
    "            \"deciduous\": 41,\n",
    "            \"evergreen\": 42,\n",
    "            \"mixed_forest\": 43,\n",
    "            \"dwarf_scrub\": 51,\n",
    "            \"shrub_scrub\": 52,\n",
    "            \"grassland\": 71,\n",
    "            \"sedge\": 72,\n",
    "            \"lichens\": 73,\n",
    "            \"moss\": 74,\n",
    "            \"pasture\": 81,\n",
    "            \"crops\": 82,\n",
    "            \"woody_wetlands\": 90,\n",
    "            \"herbacious_wetlands\": 95}\n",
    "(matrix == land_use[\"open_water\"]).astype(int).sum()/ (matrix >0).astype(int).sum()"
   ]
  },
  {
   "cell_type": "code",
   "execution_count": 17,
   "id": "b942e251",
   "metadata": {},
   "outputs": [
    {
     "data": {
      "text/plain": [
       "<AxesSubplot:xlabel='Crops Cells in County', ylabel='POP100'>"
      ]
     },
     "execution_count": 17,
     "metadata": {},
     "output_type": "execute_result"
    },
    {
     "data": {
      "image/png": "[encoded data removed]",
      "text/plain": [
       "<Figure size 432x288 with 1 Axes>"
      ]
     },
     "metadata": {
      "needs_background": "light"
     },
     "output_type": "display_data"
    }
   ],
   "source": [
    "#Q15\n",
    "#What is the Relationship Between POP100 and crops\n",
    "df = df.to_crs(land.crs)\n",
    "def crop_count(county):\n",
    "    matrix, _ = mask(land, df[df[\"NAME\"]== county][\"geometry\"], crop=True)\n",
    "    matrix = matrix[0]\n",
    "    return (matrix == land_use[\"crops\"]).astype(int).sum()\n",
    "df['count'] = df['NAME'].apply(crop_count)\n",
    "df.plot.scatter(x='count', y='POP100',xlabel = \"Crops Cells in County\")"
   ]
  },
  {
   "cell_type": "code",
   "execution_count": 18,
   "id": "7a1820a5",
   "metadata": {},
   "outputs": [
    {
     "data": {
      "text/plain": [
       "Text(0, 0.5, 'R^2 Score')"
      ]
     },
     "execution_count": 18,
     "metadata": {},
     "output_type": "execute_result"
    },
    {
     "data": {
      "image/png": "[encoded data removed]",
      "text/plain": [
       "<Figure size 432x288 with 1 Axes>"
      ]
     },
     "metadata": {
      "needs_background": "light"
     },
     "output_type": "display_data"
    }
   ],
   "source": [
    "#Q16\n",
    "tract = gpd.read_file(\"tracts.geojson\")\n",
    "tract = tract.to_crs(land.crs)\n",
    "\n",
    "developed_high = []\n",
    "developed_med = []\n",
    "developed_low = []\n",
    "developed_open = []\n",
    "for i in range(len(tract)):\n",
    "    matrix, _ = mask(land, tract[tract.index == i][\"geometry\"], crop=True)\n",
    "    matrix = matrix[0]\n",
    "    developed_high.append((matrix == land_use[\"developed_high\"]).astype(int).sum())\n",
    "    developed_med.append((matrix == land_use[\"developed_med\"]).astype(int).sum())\n",
    "    developed_low.append((matrix == land_use[\"developed_low\"]).astype(int).sum())\n",
    "    developed_open.append((matrix == land_use[\"developed_open\"]).astype(int).sum())\n",
    "tract['developed_high'] = developed_high\n",
    "tract['developed_med'] = developed_med\n",
    "tract['developed_low'] = developed_low\n",
    "tract['developed_open'] = developed_open\n",
    "\n",
    "train, test = train_test_split(tract,random_state=320)\n",
    "#model 1: simple linear regression \n",
    "m1 = LinearRegression()\n",
    "scores1 = cross_val_score(m1, train[['developed_med']], train[\"POP100\"])\n",
    "\n",
    "#model 2: simple linear regression with Polynomial degree 2\n",
    "m2 = Pipeline([\n",
    "    (\"poly\", PolynomialFeatures(degree=2, include_bias=False)),\n",
    "    (\"lr\", LinearRegression())\n",
    "])\n",
    "scores2 = cross_val_score(m2, train[['developed_med']], train[\"POP100\"])\n",
    "\n",
    "#model 3: multi-linear regression \n",
    "m3 = LinearRegression()\n",
    "scores3 = cross_val_score(m3, train[['developed_high', 'developed_med','developed_low', 'developed_open']],\n",
    "                          train[\"POP100\"])\n",
    "avg = pd.Series({\"model 1\": scores1.mean(), \"model 2\": scores2.mean(),\"model 3\": scores3.mean()})\n",
    "std = pd.Series({\"model 1\": scores1.std(), \"model 2\": scores2.std(),\"model 3\": scores3.std()})\n",
    "ax = avg.plot.bar(yerr=std)\n",
    "ax.set_ylabel(\"R^2 Score\")"
   ]
  },
  {
   "cell_type": "code",
   "execution_count": 19,
   "id": "11a4d694",
   "metadata": {},
   "outputs": [
    {
     "data": {
      "text/plain": [
       "0.39221150680164873"
      ]
     },
     "execution_count": 19,
     "metadata": {},
     "output_type": "execute_result"
    }
   ],
   "source": [
    "#Q17\n",
    "#I would recommend m3 (multi-linear regression)\n",
    "#Because 1. it has highest scores among three models\n",
    "#        2. it has smallest variance among three models\n",
    "#        3. the model is simple, without Polynomial, only 4 input variables.\n",
    "m3.fit(train[['developed_high', 'developed_med','developed_low', 'developed_open']], train[\"POP100\"])\n",
    "m3.score(test[['developed_high', 'developed_med','developed_low', 'developed_open']], test[\"POP100\"])"
   ]
  },
  {
   "cell_type": "code",
   "execution_count": null,
   "id": "e29868ed",
   "metadata": {},
   "outputs": [],
   "source": []
  },
  {
   "cell_type": "code",
   "execution_count": null,
   "id": "5fada21c",
   "metadata": {},
   "outputs": [],
   "source": []
  },
  {
   "cell_type": "code",
   "execution_count": null,
   "id": "516c223c",
   "metadata": {},
   "outputs": [],
   "source": []
  }
 ],
 "metadata": {
  "kernelspec": {
   "display_name": "Python 3 (ipykernel)",
   "language": "python",
   "name": "python3"
  },
  "language_info": {
   "codemirror_mode": {
    "name": "ipython",
    "version": 3
   },
   "file_extension": ".py",
   "mimetype": "text/x-python",
   "name": "python",
   "nbconvert_exporter": "python",
   "pygments_lexer": "ipython3",
   "version": "3.8.10"
  }
 },
 "nbformat": 4,
 "nbformat_minor": 5
}
